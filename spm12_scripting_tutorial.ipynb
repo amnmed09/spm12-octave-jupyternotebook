SPM12 scripting in a Jupyter notebook with an Octave kernel
This is a Jupyter notebook running an Octave kernel on Binder, which allows cloud-based computation using SPM12 and Matlab scripts. It is therefore a reproducible environment for fMRI analysis using SPM12. Anyone with internet access can run this same code on the same data and should get the same results. It is not only a useful tool for tutorials and sharing work with collaborators, but specifically also as a means to share the data and methods underlying your scientific results.

For more information on how this service was set up, see this blog post.

The code below is based on a tutorial I previously shared in a blog post, and then later extended to a reproducible environment with Code Ocean. This notebook achieves more or less the same using Binder, which is free for use and open source.

The instructions and code below will run through the process of performing several standard preprocessing and statistical analysis steps on a task-fMRI dataset using Matlab-based scripts and SPM12. We’re using an open and freely available dataset from OpenNeuro, which includes functional and anatomical data for multiple subjects that took part in a “block design food and nonfood picture viewing task” (many thanks to the researchers for sharing their study data online!).

Disclaimer: these scripts (excluding external libraries) are for illustrative/tutorial purposes only. They have not been rigorously peer-reviewed and could contain errors. They also do not necessaroly include all steps that would typically form part of a robust analysis pipeline. Please use your own discretion.

Data and experimental design
The data contains anatomical and functional images for multiple subjects from a task-based experiment about food temptation. More details can be found in the article (available through PubMed here), but the important thing for our purposes is that the experiment was a task-based design alternating between blocks of visual stimulus (photos of food and other objects shown to the subjects) and rest periods (where nothing was shown except for a small fixation cursor). Such a design allows us to apply statistical processes to the time series data (after appropriate preprocessing) in order to determine which voxels in the brain are more likely to be involved in visual processing. It is well known that the visual cortex is located at the posterior part of the human brain, so it will therefore be easy for us to know if our code fails miserably or whether it does what we expect it to do.

STEP 1: Initialize directory structure for data inputs and outputs
If you are reading this on Binder, the necessary data and scripts would already have been downloaded to your compute environment hosted in the cloud. This includes the ds000157-download directory downloaded from OpenNeuro, which contains a single subject's data. It also includes Matlab scripts and libraries used below, such as directories scripts, spm12, and dicm2nii.

Run the code below in order to extract the required image files, move them to the correct locations, setup the desired directory structure, and initialize required variables.

% Preprocessed and analysed data will be in "results/" folder
data_dir = fullfile(getenv('HOME'),'ds000157-download');
spm_dir = fullfile(getenv('HOME'),'spm12');
results_dir = fullfile(getenv('HOME'),'results');
stats_dir = [results_dir filesep 'stats'];
processing_dir = [results_dir filesep 'preproc_data'];
if ~exist(stats_dir,'dir')
    mkdir(stats_dir)
end
if ~exist(processing_dir,'dir')
    mkdir(processing_dir)
end
% Initialize subject data; extract; copy to preprocessing folder
sub = '01';
s_raw_fn = fullfile(data_dir, ['sub-' sub], 'anat', ['sub-' sub '_T1w.nii.gz']);
if exist(s_raw_fn, 'file')
    out_fns = gunzip(s_raw_fn);
    s_fn = out_fns{1};
else
    s_fn = strrep(s_raw_fn, '.gz', '');
end
f_raw_fn = fullfile(data_dir, ['sub-' sub], 'func', ['sub-' sub '_task-passiveimageviewing_bold.nii.gz']);
if exist(f_raw_fn, 'file')
    out_fns = gunzip(f_raw_fn);
    f_fn = out_fns{1};
else
    f_fn = strrep(f_raw_fn, '.gz', '');
end
% Create preprocessing subfolders
anat_dir = fullfile(processing_dir, ['sub-' sub], 'anat'); 
func_dir = fullfile(processing_dir, ['sub-' sub], 'func'); 
if ~exist(anat_dir, 'dir')
    mkdir(anat_dir)
end
if ~exist(func_dir, 'dir')
    mkdir(func_dir)
end
% Copy extracted files to preprocessing subfolders
anat_fn = fullfile(processing_dir, ['sub-' sub], 'anat', ['sub-' sub '_T1w.nii']);
func_fn = fullfile(processing_dir, ['sub-' sub], 'func', ['sub-' sub '_task-passiveimageviewing_bold.nii']);
if ~exist(anat_fn, 'file')
    copyfile(s_fn, anat_dir)
end
if ~exist(func_fn, 'file')
    copyfile(f_fn, func_dir)
end
% Initialize processing variables
fwhm = 6;  % mm
ans = 1
ans = 1
ans = 1
ans = 1
ans = 1
ans = 1
STEP 2: Quick inspection of data
Let's load the anatomical data (using a derived form of nii_viewer from dicm2nii) to display the brain in three dimensions (saggital, coronal, axial).

%% QUICK INSPECTION OF ANATOMICAL DATA
[p_anat, frm1, rg1, dim1] = fmrwhy_util_readNifti(anat_fn);
anat_3Dimg = p_anat.nii.img;

[Ni, Nj, Nk] = size(anat_3Dimg);
subplot(131); imagesc(rot90(squeeze(anat_3Dimg(round(Ni/2),:,:)))); colormap gray; axis image
subplot(132); imagesc(rot90(squeeze(anat_3Dimg(:,round(Nj/2),:)))); colormap gray; axis image
subplot(133); imagesc(rot90(squeeze(anat_3Dimg(:,:,round(Nk/2))))); colormap gray; axis image

Let's load the function data (using a derived form of nii_viewer from dicm2nii) to display the brain in three dimensions (saggital, coronal, axial).

%% QUICK INSPECTION OF FUNCTIONAL DATA

[p_func, frm1, rg1, dim1] = fmrwhy_util_readNifti(func_fn);
func_4Dimg = p_func.nii.img;

[Ni, Nj, Nk, Nt] = size(func_4Dimg);
subplot(131); imagesc(rot90(squeeze(func_4Dimg(round(Ni/2),:,:,1)))); colormap gray; axis image
subplot(132); imagesc(rot90(squeeze(func_4Dimg(:,round(Nj/2),:,1)))); colormap gray; axis image
subplot(133); imagesc(rot90(squeeze(func_4Dimg(:,:,round(Nk/2),1)))); colormap gray; axis image

STEP 3: Preprocessing
Preprocessing the data starts by calling spm_standardPreproc_jsh (located in the scripts directory). This function includes steps for:

Realigning all functional image volumes to the first functional image volume in the timeseries.
Coregistering the anatomical image to the first functional image volume in the timeseries.
Segmenting the coregistered anatomical image into tissue types (grey matter, white matter, cerebrospinal fluid).
Reslicing the coregistered anatomical image and all segmented tissue type images to the same resolution as the first functional image volume in the timeseries.
Smoothing the realigned functional timeseries data with a specified Gaussian kernel size.
Returning all results to a preproc_data structure.
This can take some time to run, perhaps around 15 minutes. Grab yourself a coffee...

% Preprocess structural and functional images (if not already)
% Calls function `spm_standardPreproc_jsh`
[d, f, e] = fileparts(anat_fn);
[d1, f1, e1] = fileparts(func_fn);
if exist([d filesep 'rc1' f e], 'file')
    disp('...preproc already done, saving variables...')
    preproc_data = struct;
    % Structural filenames
    preproc_data.forward_transformation = [d filesep 'y_' f e];
    preproc_data.inverse_transformation = [d filesep 'iy_' f e];
    preproc_data.gm_fn = [d filesep 'c1' f e];
    preproc_data.wm_fn = [d filesep 'c2' f e];
    preproc_data.csf_fn = [d filesep 'c3' f e];
    preproc_data.bone_fn = [d filesep 'c4' f e];
    preproc_data.soft_fn = [d filesep 'c5' f e];
    preproc_data.air_fn = [d filesep 'c6' f e];
    preproc_data.rstructural_fn = [d filesep 'r' f e];
    preproc_data.rgm_fn = [d filesep 'rc1' f e];
    preproc_data.rwm_fn = [d filesep 'rc2' f e];
    preproc_data.rcsf_fn = [d filesep 'rc3' f e];
    preproc_data.rbone_fn = [d filesep 'rc4' f e];
    preproc_data.rsoft_fn = [d filesep 'rc5' f e];
    preproc_data.rair_fn = [d filesep 'rc6' f e];
    % Functional filenames
    preproc_data.rfunctional_fn = [d1 filesep 'r' f1 e1];
    preproc_data.srfunctional_fn = [d1 filesep 'sr' f1 e1];
    preproc_data.mp_fn = [d1 filesep 'rp_' f1 '.txt'];
    preproc_data.MP = load(preproc_data.mp_fn);
else
    disp('...running preprocessing batch jobs...')
    preproc_data = spm_standardPreproc_jsh(func_fn, anat_fn, fwhm, spm_dir);
end
...running preprocessing batch jobs...
Step 1 -- Realign all volumes to first functional volume


------------------------------------------------------------------------
13-Apr-2020 13:38:57 - Running job #1
------------------------------------------------------------------------
13-Apr-2020 13:38:57 - Running 'Realign: Estimate & Reslice'

SPM12: spm_realign (v7141)                         13:38:57 - 13/04/2020
========================================================================
Completed                               :          13:40:13 - 13/04/2020

SPM12: spm_reslice (v7141)                         13:40:13 - 13/04/2020
========================================================================
Completed                               :          13:40:58 - 13/04/2020
13-Apr-2020 13:40:58 - Done    'Realign: Estimate & Reslice'
13-Apr-2020 13:40:58 - Done

Step 1 - Done!
Step 2 -- Coregister structural image to first dynamic image


------------------------------------------------------------------------
13-Apr-2020 13:41:13 - Running job #1
------------------------------------------------------------------------
13-Apr-2020 13:41:13 - Running 'Coregister: Estimate'

SPM12: spm_coreg (v7320)                           13:41:13 - 13/04/2020
========================================================================
Completed                               :          13:41:29 - 13/04/2020
13-Apr-2020 13:41:29 - Done    'Coregister: Estimate'
13-Apr-2020 13:41:29 - Done

Step 2 - Done!
Step 3 -- Segmentation


------------------------------------------------------------------------
13-Apr-2020 13:41:44 - Running job #1
------------------------------------------------------------------------
13-Apr-2020 13:41:45 - Running 'Segment'

SPM12: spm_preproc_run (v7670)                     13:41:45 - 13/04/2020
========================================================================
Segment /home/jovyan/results/preproc_data/sub-01/anat/sub-01_T1w.nii
Completed                               :          13:48:42 - 13/04/2020
13-Apr-2020 13:48:42 - Done    'Segment'
13-Apr-2020 13:48:42 - Done

Step 3 - done!
Step 4 -- Reslice all to functional-resolution image grid


------------------------------------------------------------------------
13-Apr-2020 13:48:55 - Running job #1
------------------------------------------------------------------------
13-Apr-2020 13:48:55 - Running 'Coregister: Reslice'

SPM12: spm_reslice (v7141)                         13:48:56 - 13/04/2020
========================================================================
Completed                               :          13:49:06 - 13/04/2020
13-Apr-2020 13:49:06 - Done    'Coregister: Reslice'
13-Apr-2020 13:49:06 - Done

Step 4 - done!
STEP 5 -- Gaussian kernel smoothing of realigned data


------------------------------------------------------------------------
13-Apr-2020 13:49:21 - Running job #1
------------------------------------------------------------------------
13-Apr-2020 13:49:21 - Running 'Smooth'
13-Apr-2020 13:50:41 - Done    'Smooth'
13-Apr-2020 13:50:41 - Done

Step 5 - done!
STEP 4: Create 1st level statistical design
Here we create the first level statistical design to analyse the preprocessed data. This is done with spm_specify1stlevel_jsh.

We set the timing units as seconds because that is how we want to specify the task stimulus onsets and durations (the other unit option is ‘scans’). The repetition time is set to 1.6 seconds, as specified in the task-passiveimageviewing_bold.json file supplied together with the dataset. The task stimulus onsets and durations are given in the sub-01_task-passiveimageviewing_events.tsv file supplied with the sub-01 data. The .tsv file also gives the type of stimulus, either food or non-food pictures. For this exercise, we are not interested in the differences in brain responses between food and non-food picture viewing, rather we just want to see which voxels in the brain are likely involved in any type of picture viewing experience vs only looking at a black screen with a cursor. This is why we specified vectors of all onset times and durations (except for the break period) for the respective parameters. Finally we also supply the text file with the movement parameters (preproc_data.mp_fn; resulting from the 6 DOF rigid body transformations during the realignment step) to be included as regressors in the design matrix.

% Set up statistical design parameters, based on task data
sess_params = struct;
sess_params.timing_units = 'secs';
sess_params.timing_RT = 1.6;
sess_params.cond_name = 'Pictures';
sess_params.cond_onset = [0; 40.1; 77.2; 111.3; 143.3; 179.4; 218.5; 251.5; 299.6; 334.7; 374.8; 411.9; 445.9; 478.0; 514.1; 553.2];
sess_params.cond_duration = [24.1000; 24.06; 24.07; 24.06; 24.06; 24.07; 24.04; 24.06; 24.07; 24.10; 24.06; 24.06; 24.09; 24.09; 24.06; 24.07];
% Call script to set up design
spm_specify1stlevel_jsh(stats_dir, preproc_data.srfunctional_fn, preproc_data.mp_fn, sess_params)
% Display/explore design matrix 
load([stats_dir filesep 'SPM.mat']);
spm_DesRep('fMRIDesMtx',SPM,1,1)
saveas(gcf, [processing_dir filesep 'des_mat.png'])
Can not initialise pmod value(s): job is not a struct.
Can not initialise regress value(s): job is not a struct.
Can not initialise fact value(s): job is not a struct.


------------------------------------------------------------------------
13-Apr-2020 13:54:02 - Running job #1
------------------------------------------------------------------------
13-Apr-2020 13:54:03 - Running 'fMRI model specification'

SPM12: spm_fMRI_design (v7739)                     13:54:03 - 13/04/2020
========================================================================
Saving fMRI design                      :               ...SPM.mat saved

SPM12: spm_fmri_spm_ui (v7738)                     13:54:03 - 13/04/2020
========================================================================
Mapping files                           :                        ...done
Calculating globals                     :                        ...done
Saving SPM configuration                :               ...SPM.mat saved
Saving SPM configuration                :               ...SPM.mat saved
Completed                               :          13:54:12 - 13/04/2020
13-Apr-2020 13:54:12 - Done    'fMRI model specification'
13-Apr-2020 13:54:12 - Done

warning: Unable to open display.
warning: called from
    spm at line 656 column 9
    spm at line 577 column 4
    spm at line 610 column 5
    spm_figure at line 662 column 6
    spm_figure at line 175 column 3
    spm_figure at line 221 column 19
    spm_DesRep at line 890 column 8
warning: Unable to open display.
warning: called from
    spm at line 656 column 9
    spm at line 577 column 4
    spm at line 696 column 8
    spm_figure at line 664 column 6
    spm_figure at line 175 column 3
    spm_figure at line 221 column 19
    spm_DesRep at line 890 column 8
warning: Unable to open display.
warning: called from
    spm at line 656 column 9
    spm_figure at line 665 column 6
    spm_figure at line 175 column 3
    spm_figure at line 221 column 19
    spm_DesRep at line 890 column 8
           Regressors for Pictures          128 second High-pass filter        
                                                                               
          |------------------------|         |------------------------|        
        1 |************************|     0.6 |$+%+%%%+%%%+%%%+%%%+%%++|        
      0.8 |************************|     0.5 |$+%%%%%%%%%%%%%%%%%%%%+%|        
      0.6 |************************|     0.4 |$+%%%%%%%%%%%%%%%%%%%%+%|        
    relative spectral density******|     0.3 |$+%%%%%%%%%%%%%%%%%%%%+%|        
      0.4 |************************|         |$  %   %   %   %   %   %|        
      0.2 |*****************#******|     0.2 |$+%%%%%%%%%%%%%%%%%%%%+%|        
        0 |***#*************#******|     0.1 |$*%+%%%+%%%+%%%+%%%+%%++|        
     Basis set and peristimulus sampling   0 |------------------------|        
            50  10015hrf0 250300350          0 0.05 0.10.15 0.20.25 0.3        
                    scan                          Frequency (Hz)               
     0.02 |------------------------|                                           
          | ***+  + +  +  + +  +  +|                                           
    0.015 |-*$*$$$$$$$$$$$$$$$$$$+$|                                           
          | *$*$  $ $  $  $ $  $  $|                                           
     0.01 |**$**$$$$$$$$$$$$$$$$$+$|                                           
          |* $ *  $ $  $  $ $  $  $|                                           
    0.005 |*+$$**$$$$$$$$$$$$$$$$+$|                                           
        0 |GGGGGGGGGGGGGGGGGGGGGGGG|                                           
          |------------------------|                                           
          0  510 1520 25 3035 40 45                                            
                                                                               
           Regressors for Pictures          128 second High-pass filter        
                                                                               
          |------------------------|         |------------------------|        
        1 |************************|     0.6 |$+%+%%%+%%%+%%%+%%%+%%++|        
      0.8 |************************|     0.5 |$+%%%%%%%%%%%%%%%%%%%%+%|        
      0.6 |************************|     0.4 |$+%%%%%%%%%%%%%%%%%%%%+%|        
    relative spectral density******|     0.3 |$+%%%%%%%%%%%%%%%%%%%%+%|        
      0.4 |************************|         |$  %   %   %   %   %   %|        
      0.2 |*****************#******|     0.2 |$+%%%%%%%%%%%%%%%%%%%%+%|        
        0 |***#*************#******|     0.1 |$*%+%%%+%%%+%%%+%%%+%%++|        
     Basis set and peristimulus sampling   0 |------------------------|        
            50  10015hrf0 250300350          0 0.05 0.10.15 0.20.25 0.3        
                    scan                          Frequency (Hz)               
     0.02 |------------------------|                                           
          | ***+  + +  +  + +  +  +|                                           
    0.015 |-*$*$$$$$$$$$$$$$$$$$$+$|                                           
          | *$*$  $ $  $  $ $  $  $|                                           
     0.01 |**$**$$$$$$$$$$$$$$$$$+$|                                           
          |* $ *  $ $  $  $ $  $  $|                                           
    0.005 |*+$$**$$$$$$$$$$$$$$$$+$|                                           
        0 |GGGGGGGGGGGGGGGGGGGGGGGG|                                           
          |------------------------|                                           
          0  510 1520 25 3035 40 45                                            
                                                                               

STEP 5: Estimate the model
Estimating the model fit, i.e. running the general linear model with the specified design. This is done with spm_estimateModel_jsh.

spm_estimateModel_jsh(stats_dir)
------------------------------------------------------------------------
13-Apr-2020 13:56:30 - Running job #1
------------------------------------------------------------------------
13-Apr-2020 13:56:31 - Running 'Model estimation'

SPM12: spm_spm (v7738)                             13:56:31 - 13/04/2020
========================================================================

SPM12: spm_est_non_sphericity (v7577)              13:56:34 - 13/04/2020
========================================================================
Chunk   1/1                             :                  ...processing13-Apr-2020 13:56:35 - Failed  'Model estimation'
file2mat.c not compiled - see Makefile
In file "/home/jovyan/spm12/@file_array/private/file2mat.m" (v7147), function "file2mat" at line 16.
In file "/home/jovyan/spm12/@file_array/subsref.m" (v7439), function "subsref>multifile2mat" at line 179.
In file "/home/jovyan/spm12/@file_array/subsref.m" (v7439), function "subsref>subfun" at line 99.
In file "/home/jovyan/spm12/@file_array/subsref.m" (v7439), function "subsref" at line 65.
In file "/home/jovyan/spm12/@nifti/subsref.m" (v7147), function "subsref>rec" at line 221.
In file "/home/jovyan/spm12/@nifti/subsref.m" (v7147), function "subsref" at line 45.
In file "/home/jovyan/spm12/spm_data_read.m" (v7577), function "spm_data_read" at line 62.
In file "/home/jovyan/spm12/spm_est_non_sphericity.m" (v7577), function "spm_est_non_sphericity" at line 158.
In file "/home/jovyan/spm12/spm_spm.m" (v7738), function "spm_spm" at line 433.
In file "/home/jovyan/spm12/config/spm_run_fmri_est.m" (v7354), function "spm_run_fmri_est" at line 36.

The following modules did not run:
Failed: Model estimation

error: Job execution failed. The full log of this run can be found in MATLAB command window, starting with the lines (look for the line showing the exact #job as displayed in this error message)
------------------ 
Running job #1
------------------
STEP 6: Setup the task contrast
Here we create the task contrast used as input for the statistical testing. This is done with spm_setupTaskContrast_jsh.

[Ntt, Nregr] = size(SPM.xX.X);
contrast_params = struct;
contrast_params.weights = zeros(1, Nregr); 
contrast_params.weights(1) = 1;
contrast_params.name = 'Picture viewing';
spm_setupTaskContrast_jsh(stats_dir, contrast_params)
------------------------------------------------------------------------
13-Apr-2020 13:56:59 - Running job #1
------------------------------------------------------------------------
13-Apr-2020 13:57:00 - Running 'Contrast Manager'

SPM12: spm_contrasts.m                             13:57:00 - 13/04/2020
========================================================================
Contrasts folder                        :     /home/jovyan/results/stats
13-Apr-2020 13:57:00 - Failed  'Contrast Manager'
This model has not been estimated.
In file "/home/jovyan/spm12/config/spm_run_con.m" (v7738), function "spm_run_con" at line 34.

The following modules did not run:
Failed: Contrast Manager

error: Job execution failed. The full log of this run can be found in MATLAB command window, starting with the lines (look for the line showing the exact #job as displayed in this error message)
------------------ 
Running job #1
------------------
STEP 7: Generate results
Finally, we apply statistical tests and some correction factors to generate a 3D map of thresholded t-values (resulting from t-tests), which indicate voxels that are likely to be involved in the task. This is done with `spm_runResults_jsh`.

spm_runResults_jsh(stats_dir)
------------------------------------------------------------------------
13-Apr-2020 13:57:34 - Running job #1
------------------------------------------------------------------------
13-Apr-2020 13:57:34 - Running 'Results Report'

    * - SPM12: spm_getSPM  ---------------------------------------------

        This model has not been estimated.
         
        /home/jovyan/results/stats/SPM.mat

        -----------------------------------------  13:57:34 - 13/04/2020

13-Apr-2020 13:57:34 - Failed  'Results Report'
matrix cannot be indexed with .
In file "/home/jovyan/spm12/spm_list.m" (v7725), function "spm_list" at line 172.
In file "/home/jovyan/spm12/config/spm_run_results.m" (v7268), function "spm_run_results" at line 80.

The following modules did not run:
Failed: Results Report

error: Job execution failed. The full log of this run can be found in MATLAB command window, starting with the lines (look for the line showing the exact #job as displayed in this error message)
------------------ 
Running job #1
------------------
STEP 8: Explore and visualise results
This part is still to be expanded
